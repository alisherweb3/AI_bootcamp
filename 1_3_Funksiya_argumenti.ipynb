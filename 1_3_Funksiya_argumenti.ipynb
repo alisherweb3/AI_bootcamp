{
  "nbformat": 4,
  "nbformat_minor": 0,
  "metadata": {
    "colab": {
      "provenance": [],
      "include_colab_link": true
    },
    "kernelspec": {
      "name": "python3",
      "display_name": "Python 3"
    },
    "language_info": {
      "name": "python"
    }
  },
  "cells": [
    {
      "cell_type": "markdown",
      "metadata": {
        "id": "view-in-github",
        "colab_type": "text"
      },
      "source": [
        "<a href=\"https://colab.research.google.com/github/alisherweb3/AI_bootcamp/blob/main/1_3_Funksiya_argumenti.ipynb\" target=\"_parent\"><img src=\"https://colab.research.google.com/assets/colab-badge.svg\" alt=\"Open In Colab\"/></a>"
      ]
    },
    {
      "cell_type": "markdown",
      "source": [
        "## Argumentlar\n",
        "\n",
        "Funksiya qabul qilib oladigan matn yoki raqamni **funksiya argumenti** deymiz."
      ],
      "metadata": {
        "id": "s09PRdctluR9"
      }
    },
    {
      "cell_type": "markdown",
      "source": [
        "Funksiyani yozayotganda xatoga yo'l qo'ymaslik uchun, uni dokumentatsiyasiga qarashimiz kerak. Bizga kerak bo'lgan document ga e'tibor beramiz:"
      ],
      "metadata": {
        "id": "J4Lxbu35mEqW"
      }
    },
    {
      "cell_type": "markdown",
      "source": [
        "![image.png](data:image/png;base64,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)"
      ],
      "metadata": {
        "id": "SZ8KCD95luXF"
      }
    },
    {
      "cell_type": "code",
      "execution_count": 5,
      "metadata": {
        "colab": {
          "base_uri": "https://localhost:8080/"
        },
        "id": "wncawek7llWU",
        "outputId": "0b3cf208-c4d5-43fd-f18e-62b81d315a45"
      },
      "outputs": [
        {
          "output_type": "stream",
          "name": "stdout",
          "text": [
            "Salom dunyo\n"
          ]
        }
      ],
      "source": [
        "print(\"Salom\",\"dunyo\")"
      ]
    },
    {
      "cell_type": "code",
      "source": [
        "print(\"440*20/167 + 68\", \"=\", 440*20/167 + 68)"
      ],
      "metadata": {
        "colab": {
          "base_uri": "https://localhost:8080/"
        },
        "id": "XFmmSkeomEeI",
        "outputId": "239610a6-b60b-4bb7-fbc2-57f3b3204082"
      },
      "execution_count": 6,
      "outputs": [
        {
          "output_type": "stream",
          "name": "stdout",
          "text": [
            "440*20/167 + 68 = 120.69461077844312\n"
          ]
        }
      ]
    },
    {
      "cell_type": "markdown",
      "source": [
        "## input() funksiyasi\n",
        "\n",
        "Endi eng birinchi print() ni jamoadoshi bilan tanishamiz - bu input() funksiyasi!\n",
        "\n",
        "` input() — klaviatura orqali kiritilgan ma'lumotni o'qiydi. `\n"
      ],
      "metadata": {
        "id": "w9hlsJfGmt1Z"
      }
    },
    {
      "cell_type": "markdown",
      "source": [
        "Input(kiritish) klaviatura orqali amalga oshiriladi va \"Enter\" tugmasi orqali tugatiladi"
      ],
      "metadata": {
        "id": "iifg7ti7m-P6"
      }
    },
    {
      "cell_type": "code",
      "source": [
        "input(\"Ismingizni kiriting: \")"
      ],
      "metadata": {
        "colab": {
          "base_uri": "https://localhost:8080/",
          "height": 53
        },
        "id": "nIE-HKJnmoGk",
        "outputId": "97387946-6975-4a8b-ec5d-6ef6526ede4e"
      },
      "execution_count": 1,
      "outputs": [
        {
          "name": "stdout",
          "output_type": "stream",
          "text": [
            "Ismizni kiriting: Alisher\n"
          ]
        },
        {
          "output_type": "execute_result",
          "data": {
            "text/plain": [
              "'Alisher'"
            ],
            "application/vnd.google.colaboratory.intrinsic+json": {
              "type": "string"
            }
          },
          "metadata": {},
          "execution_count": 1
        }
      ]
    },
    {
      "cell_type": "markdown",
      "source": [
        "**input**() funksiyasini **print**() ni ichiga joylaymiz. \n"
      ],
      "metadata": {
        "id": "MeX1W_VCnMLt"
      }
    },
    {
      "cell_type": "code",
      "source": [
        "print(\"Salom\", input(\"Ismingizni kiriting: \"))"
      ],
      "metadata": {
        "colab": {
          "base_uri": "https://localhost:8080/"
        },
        "id": "HsRujBDnmyfI",
        "outputId": "1510586f-efbd-4eae-e024-952bfcb25ea4"
      },
      "execution_count": 3,
      "outputs": [
        {
          "output_type": "stream",
          "name": "stdout",
          "text": [
            "Ismingizni kiriting: Alisher\n",
            "Salom Alisher\n"
          ]
        }
      ]
    },
    {
      "cell_type": "markdown",
      "source": [
        "## O'zgaruchilar\n",
        "\n",
        "O'zgaruchilar -  qandaydir \"quti\"ga o'xshaydi. Bu qutiga xoxlagan narsani solib qo'yamiz va kerakli payt uni olamiz. \n"
      ],
      "metadata": {
        "id": "DcdOn-wvnYCy"
      }
    },
    {
      "cell_type": "markdown",
      "source": [
        "O'zgaruvchi yaratish uchun, birinchi uni nomlash kerak. Buni eng yaxshi usuli \"eslab qolish oson bo'lgan\" nom berish. Hozir biz number degan o'zgaruvchan yaratamiz va unda 9 raqamini saqlab qo'yamiz.\n"
      ],
      "metadata": {
        "id": "ZXbnZ_VUnwbb"
      }
    },
    {
      "cell_type": "code",
      "source": [
        "number = 9"
      ],
      "metadata": {
        "id": "kGxKmm3inHWW"
      },
      "execution_count": 7,
      "outputs": []
    },
    {
      "cell_type": "markdown",
      "source": [
        "O'zgaruvchiga biror bir ma'lumot kiritish mana bunday tarzda amalga oshiriladi:   \n",
        "> **o'zgaruvchi nomi** *= o'zgaruvchi ichida saqlanishi kerak bo'lgan ma'lumot.*\n"
      ],
      "metadata": {
        "id": "QL_St93dn3dc"
      }
    },
    {
      "cell_type": "code",
      "source": [
        "print(number)"
      ],
      "metadata": {
        "colab": {
          "base_uri": "https://localhost:8080/"
        },
        "id": "p5gSnglGnxN_",
        "outputId": "ce101f7e-e361-408d-b509-8286b29ccd5d"
      },
      "execution_count": 8,
      "outputs": [
        {
          "output_type": "stream",
          "name": "stdout",
          "text": [
            "9\n"
          ]
        }
      ]
    },
    {
      "cell_type": "code",
      "source": [
        "name = input(\"Ismingizni yozing: \")\n",
        "second_name = input(\"Familiyangizni kiriting: \")"
      ],
      "metadata": {
        "colab": {
          "base_uri": "https://localhost:8080/"
        },
        "id": "LwvtsZTMnxQb",
        "outputId": "e5cd16d7-6b9d-4121-f03f-67a595d84a85"
      },
      "execution_count": 9,
      "outputs": [
        {
          "name": "stdout",
          "output_type": "stream",
          "text": [
            "Ismingizni yozing: Alisher\n",
            "Familiyangizni kiriting: Radjabov\n"
          ]
        }
      ]
    },
    {
      "cell_type": "code",
      "source": [
        "print(\"Salom\", name, second_name, \"bugun dasturlash uchun yaxshi kun!\")"
      ],
      "metadata": {
        "colab": {
          "base_uri": "https://localhost:8080/"
        },
        "id": "96-D6UE3nxSP",
        "outputId": "23ac14d5-2a04-4cad-8784-fd6e2e2c7007"
      },
      "execution_count": 11,
      "outputs": [
        {
          "output_type": "stream",
          "name": "stdout",
          "text": [
            "Salom Alisher Radjabov bugun dasturlash uchun yaxshi kun!\n"
          ]
        }
      ]
    },
    {
      "cell_type": "markdown",
      "source": [
        "O'zgaruvchilarda - tenglashtirish elementi"
      ],
      "metadata": {
        "id": "HLuUuZWOolGS"
      }
    },
    {
      "cell_type": "code",
      "source": [
        "a = 10 \n",
        "b = 37"
      ],
      "metadata": {
        "id": "mGzenP94oknl"
      },
      "execution_count": 12,
      "outputs": []
    },
    {
      "cell_type": "code",
      "source": [
        "print(a+b)"
      ],
      "metadata": {
        "colab": {
          "base_uri": "https://localhost:8080/"
        },
        "id": "CQqdiGSgnxVF",
        "outputId": "7cc10c76-3445-4e2a-c158-0ed324fd975a"
      },
      "execution_count": 13,
      "outputs": [
        {
          "output_type": "stream",
          "name": "stdout",
          "text": [
            "47\n"
          ]
        }
      ]
    },
    {
      "cell_type": "markdown",
      "source": [
        "O'zgaruvchi yaratganda mana qoidalarga amal qilish kerak:\n",
        "* faqat english harflar va raqamlar\n",
        "* raqamdan boshlanmasligi kerak;\n",
        "* Pythonda kiritilgan nomlar bo;lmasligi, masalan print, str, int va boshqalar...;.\n"
      ],
      "metadata": {
        "id": "9wM-pw-ApFj7"
      }
    },
    {
      "cell_type": "code",
      "source": [
        "a = \"Ishlaring \"\n",
        "b = \"yaxshimi\"\n",
        "c = \"?\"\n",
        "\n",
        "print(a+b+c)"
      ],
      "metadata": {
        "colab": {
          "base_uri": "https://localhost:8080/"
        },
        "id": "KXE_X7Y0pQhJ",
        "outputId": "29fb7545-1777-42ed-eb9b-177f82bbeaab"
      },
      "execution_count": 4,
      "outputs": [
        {
          "output_type": "stream",
          "name": "stdout",
          "text": [
            "Ishlaring yaxshimi?\n"
          ]
        }
      ]
    },
    {
      "cell_type": "markdown",
      "source": [
        "**Muhim!**\n",
        "\n",
        "\n",
        "Python da kod yozishda, bosh harf va kichik harfga sezuvchanlik bor. Bu degani, Text, text и TEXT deb nomlangan o'zgaruvchilar — butunlay boshqa deb tushuniladi. ( IDE da - # kod interpretatori).\n"
      ],
      "metadata": {
        "id": "IIMZqh29pCzV"
      }
    }
  ]
}