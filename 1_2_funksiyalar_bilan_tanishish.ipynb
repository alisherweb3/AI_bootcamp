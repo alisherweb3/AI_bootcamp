{
  "nbformat": 4,
  "nbformat_minor": 0,
  "metadata": {
    "colab": {
      "provenance": [],
      "include_colab_link": true
    },
    "kernelspec": {
      "name": "python3",
      "display_name": "Python 3"
    },
    "language_info": {
      "name": "python"
    }
  },
  "cells": [
    {
      "cell_type": "markdown",
      "metadata": {
        "id": "view-in-github",
        "colab_type": "text"
      },
      "source": [
        "<a href=\"https://colab.research.google.com/github/alisherweb3/AI_butkemp/blob/main/1_2_funksiyalar_bilan_tanishish.ipynb\" target=\"_parent\"><img src=\"https://colab.research.google.com/assets/colab-badge.svg\" alt=\"Open In Colab\"/></a>"
      ]
    },
    {
      "cell_type": "markdown",
      "source": [
        "## Python ni funksiyalari"
      ],
      "metadata": {
        "id": "MPk5Ajc3cn7O"
      }
    },
    {
      "cell_type": "markdown",
      "source": [
        "![](https://sun9-west.userapi.com/sun9-9/s/v1/ig2/CCzQGQqCwyBgJOr7frs7l3-wRdevWe_a47K74FcnLbh19WVZ8lPj5fZt9m2UbXvcy98-OitQDYvpEasxzWuGiSb7.jpg?size=860x862&quality=96&type=album)"
      ],
      "metadata": {
        "id": "UJ7kKDukcsbV"
      }
    },
    {
      "cell_type": "markdown",
      "source": [
        "2 ta asosiy funksiyalarni turi bor:\n",
        "* **kiritilgan** Pythonda bu funksiyalar avvaldan kiritilgan - Pythonni yuklagandan keyin, darrov ishlatishni boshlasa bo'ladi\n",
        "* **qo'lbola**  - Bu biz o'zimiz kiritadigan, yozadigan va to'ldirib boradigan funksiyalar. Biz ularni yaratishni o'rganamiz va internetdagi boshqa dasturchilarni yaratgan funksiyalarini ham ishlatamiz.\n"
      ],
      "metadata": {
        "id": "3bFYI3qUc-2n"
      }
    },
    {
      "cell_type": "markdown",
      "source": [
        "## Bizning birinchi funksiya"
      ],
      "metadata": {
        "id": "OdNgcaGldmPP"
      }
    },
    {
      "cell_type": "code",
      "source": [
        "print()"
      ],
      "metadata": {
        "colab": {
          "base_uri": "https://localhost:8080/"
        },
        "id": "QqxzpMmTcsK7",
        "outputId": "110e28a3-5c94-4432-cb3c-f8ae2f415db5"
      },
      "execution_count": null,
      "outputs": [
        {
          "output_type": "stream",
          "name": "stdout",
          "text": [
            "\n"
          ]
        }
      ]
    },
    {
      "cell_type": "markdown",
      "source": [
        "O'zimizni birinchi funksiyamizni ko'rib chiqamiz. BU\n",
        " **print()**, u nimadan tashkil topgan?\n",
        "* asosiy so'z print \n",
        "* va kutilganidek - qavs. \n"
      ],
      "metadata": {
        "id": "4GqPvFoDdrOx"
      }
    },
    {
      "cell_type": "code",
      "source": [
        "print(\"Hello, World!\")"
      ],
      "metadata": {
        "colab": {
          "base_uri": "https://localhost:8080/"
        },
        "id": "QmqN1c-UdqlN",
        "outputId": "0716593d-ac10-4453-b8dc-4f70417c8e58"
      },
      "execution_count": 2,
      "outputs": [
        {
          "output_type": "stream",
          "name": "stdout",
          "text": [
            "Hello, World!\n"
          ]
        }
      ]
    },
    {
      "cell_type": "code",
      "execution_count": 3,
      "metadata": {
        "colab": {
          "base_uri": "https://localhost:8080/"
        },
        "id": "Si_0_eurci6b",
        "outputId": "487449f0-9423-496e-d741-b8dcd4f5c2bc"
      },
      "outputs": [
        {
          "output_type": "stream",
          "name": "stdout",
          "text": [
            "Aytginchi, nimaga 12 ta oy mavjud?\n"
          ]
        }
      ],
      "source": [
        "print(\"Aytginchi, nimaga 12 ta oy mavjud?\")"
      ]
    },
    {
      "cell_type": "code",
      "source": [
        "print(Aytginchi, nimaga 12 ta oy mavjud?)"
      ],
      "metadata": {
        "colab": {
          "base_uri": "https://localhost:8080/",
          "height": 130
        },
        "id": "zZvpsfC-cnZt",
        "outputId": "a96faec3-d6fe-495d-ead6-fac982ac2c0c"
      },
      "execution_count": 4,
      "outputs": [
        {
          "output_type": "error",
          "ename": "SyntaxError",
          "evalue": "ignored",
          "traceback": [
            "\u001b[0;36m  File \u001b[0;32m\"<ipython-input-4-106ea387c4a0>\"\u001b[0;36m, line \u001b[0;32m1\u001b[0m\n\u001b[0;31m    print(Aytginchi, nimaga 12 ta oy mavjud?)\u001b[0m\n\u001b[0m                            ^\u001b[0m\n\u001b[0;31mSyntaxError\u001b[0m\u001b[0;31m:\u001b[0m invalid syntax\n"
          ]
        }
      ]
    }
  ]
}